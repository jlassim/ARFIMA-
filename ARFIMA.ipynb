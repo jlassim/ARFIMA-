{
  "nbformat": 4,
  "nbformat_minor": 0,
  "metadata": {
    "colab": {
      "provenance": []
    },
    "kernelspec": {
      "name": "python3",
      "display_name": "Python 3"
    },
    "language_info": {
      "name": "python"
    }
  },
  "cells": [
    {
      "cell_type": "code",
      "execution_count": null,
      "metadata": {
        "colab": {
          "base_uri": "https://localhost:8080/",
          "height": 463
        },
        "id": "ZcYJBWcALYF4",
        "outputId": "19f0d78a-968c-4633-e03e-4ab369e2bae4"
      },
      "outputs": [
        {
          "output_type": "execute_result",
          "data": {
            "text/plain": [
              "                                   Flow ID       Source IP   Source Port  \\\n",
              "0  192.168.10.5-104.16.207.165-54865-443-6  104.16.207.165           443   \n",
              "1    192.168.10.5-104.16.28.216-55054-80-6   104.16.28.216            80   \n",
              "2    192.168.10.5-104.16.28.216-55055-80-6   104.16.28.216            80   \n",
              "3  192.168.10.16-104.17.241.25-46236-443-6   104.17.241.25           443   \n",
              "4  192.168.10.5-104.19.196.102-54863-443-6  104.19.196.102           443   \n",
              "\n",
              "   Destination IP   Destination Port   Protocol      Timestamp  \\\n",
              "0    192.168.10.5              54865          6  7/7/2017 3:30   \n",
              "1    192.168.10.5              55054          6  7/7/2017 3:30   \n",
              "2    192.168.10.5              55055          6  7/7/2017 3:30   \n",
              "3   192.168.10.16              46236          6  7/7/2017 3:30   \n",
              "4    192.168.10.5              54863          6  7/7/2017 3:30   \n",
              "\n",
              "    Flow Duration   Total Fwd Packets   Total Backward Packets  ...  \\\n",
              "0               3                   2                        0  ...   \n",
              "1             109                   1                        1  ...   \n",
              "2              52                   1                        1  ...   \n",
              "3              34                   1                        1  ...   \n",
              "4               3                   2                        0  ...   \n",
              "\n",
              "    min_seg_size_forward  Active Mean   Active Std   Active Max   Active Min  \\\n",
              "0                     20          0.0          0.0            0            0   \n",
              "1                     20          0.0          0.0            0            0   \n",
              "2                     20          0.0          0.0            0            0   \n",
              "3                     20          0.0          0.0            0            0   \n",
              "4                     20          0.0          0.0            0            0   \n",
              "\n",
              "   Idle Mean   Idle Std   Idle Max   Idle Min   Label  \n",
              "0        0.0        0.0          0          0  BENIGN  \n",
              "1        0.0        0.0          0          0  BENIGN  \n",
              "2        0.0        0.0          0          0  BENIGN  \n",
              "3        0.0        0.0          0          0  BENIGN  \n",
              "4        0.0        0.0          0          0  BENIGN  \n",
              "\n",
              "[5 rows x 85 columns]"
            ],
            "text/html": [
              "\n",
              "  <div id=\"df-18291eb4-6dc5-468f-ae83-8139ceb4fcde\" class=\"colab-df-container\">\n",
              "    <div>\n",
              "<style scoped>\n",
              "    .dataframe tbody tr th:only-of-type {\n",
              "        vertical-align: middle;\n",
              "    }\n",
              "\n",
              "    .dataframe tbody tr th {\n",
              "        vertical-align: top;\n",
              "    }\n",
              "\n",
              "    .dataframe thead th {\n",
              "        text-align: right;\n",
              "    }\n",
              "</style>\n",
              "<table border=\"1\" class=\"dataframe\">\n",
              "  <thead>\n",
              "    <tr style=\"text-align: right;\">\n",
              "      <th></th>\n",
              "      <th>Flow ID</th>\n",
              "      <th>Source IP</th>\n",
              "      <th>Source Port</th>\n",
              "      <th>Destination IP</th>\n",
              "      <th>Destination Port</th>\n",
              "      <th>Protocol</th>\n",
              "      <th>Timestamp</th>\n",
              "      <th>Flow Duration</th>\n",
              "      <th>Total Fwd Packets</th>\n",
              "      <th>Total Backward Packets</th>\n",
              "      <th>...</th>\n",
              "      <th>min_seg_size_forward</th>\n",
              "      <th>Active Mean</th>\n",
              "      <th>Active Std</th>\n",
              "      <th>Active Max</th>\n",
              "      <th>Active Min</th>\n",
              "      <th>Idle Mean</th>\n",
              "      <th>Idle Std</th>\n",
              "      <th>Idle Max</th>\n",
              "      <th>Idle Min</th>\n",
              "      <th>Label</th>\n",
              "    </tr>\n",
              "  </thead>\n",
              "  <tbody>\n",
              "    <tr>\n",
              "      <th>0</th>\n",
              "      <td>192.168.10.5-104.16.207.165-54865-443-6</td>\n",
              "      <td>104.16.207.165</td>\n",
              "      <td>443</td>\n",
              "      <td>192.168.10.5</td>\n",
              "      <td>54865</td>\n",
              "      <td>6</td>\n",
              "      <td>7/7/2017 3:30</td>\n",
              "      <td>3</td>\n",
              "      <td>2</td>\n",
              "      <td>0</td>\n",
              "      <td>...</td>\n",
              "      <td>20</td>\n",
              "      <td>0.0</td>\n",
              "      <td>0.0</td>\n",
              "      <td>0</td>\n",
              "      <td>0</td>\n",
              "      <td>0.0</td>\n",
              "      <td>0.0</td>\n",
              "      <td>0</td>\n",
              "      <td>0</td>\n",
              "      <td>BENIGN</td>\n",
              "    </tr>\n",
              "    <tr>\n",
              "      <th>1</th>\n",
              "      <td>192.168.10.5-104.16.28.216-55054-80-6</td>\n",
              "      <td>104.16.28.216</td>\n",
              "      <td>80</td>\n",
              "      <td>192.168.10.5</td>\n",
              "      <td>55054</td>\n",
              "      <td>6</td>\n",
              "      <td>7/7/2017 3:30</td>\n",
              "      <td>109</td>\n",
              "      <td>1</td>\n",
              "      <td>1</td>\n",
              "      <td>...</td>\n",
              "      <td>20</td>\n",
              "      <td>0.0</td>\n",
              "      <td>0.0</td>\n",
              "      <td>0</td>\n",
              "      <td>0</td>\n",
              "      <td>0.0</td>\n",
              "      <td>0.0</td>\n",
              "      <td>0</td>\n",
              "      <td>0</td>\n",
              "      <td>BENIGN</td>\n",
              "    </tr>\n",
              "    <tr>\n",
              "      <th>2</th>\n",
              "      <td>192.168.10.5-104.16.28.216-55055-80-6</td>\n",
              "      <td>104.16.28.216</td>\n",
              "      <td>80</td>\n",
              "      <td>192.168.10.5</td>\n",
              "      <td>55055</td>\n",
              "      <td>6</td>\n",
              "      <td>7/7/2017 3:30</td>\n",
              "      <td>52</td>\n",
              "      <td>1</td>\n",
              "      <td>1</td>\n",
              "      <td>...</td>\n",
              "      <td>20</td>\n",
              "      <td>0.0</td>\n",
              "      <td>0.0</td>\n",
              "      <td>0</td>\n",
              "      <td>0</td>\n",
              "      <td>0.0</td>\n",
              "      <td>0.0</td>\n",
              "      <td>0</td>\n",
              "      <td>0</td>\n",
              "      <td>BENIGN</td>\n",
              "    </tr>\n",
              "    <tr>\n",
              "      <th>3</th>\n",
              "      <td>192.168.10.16-104.17.241.25-46236-443-6</td>\n",
              "      <td>104.17.241.25</td>\n",
              "      <td>443</td>\n",
              "      <td>192.168.10.16</td>\n",
              "      <td>46236</td>\n",
              "      <td>6</td>\n",
              "      <td>7/7/2017 3:30</td>\n",
              "      <td>34</td>\n",
              "      <td>1</td>\n",
              "      <td>1</td>\n",
              "      <td>...</td>\n",
              "      <td>20</td>\n",
              "      <td>0.0</td>\n",
              "      <td>0.0</td>\n",
              "      <td>0</td>\n",
              "      <td>0</td>\n",
              "      <td>0.0</td>\n",
              "      <td>0.0</td>\n",
              "      <td>0</td>\n",
              "      <td>0</td>\n",
              "      <td>BENIGN</td>\n",
              "    </tr>\n",
              "    <tr>\n",
              "      <th>4</th>\n",
              "      <td>192.168.10.5-104.19.196.102-54863-443-6</td>\n",
              "      <td>104.19.196.102</td>\n",
              "      <td>443</td>\n",
              "      <td>192.168.10.5</td>\n",
              "      <td>54863</td>\n",
              "      <td>6</td>\n",
              "      <td>7/7/2017 3:30</td>\n",
              "      <td>3</td>\n",
              "      <td>2</td>\n",
              "      <td>0</td>\n",
              "      <td>...</td>\n",
              "      <td>20</td>\n",
              "      <td>0.0</td>\n",
              "      <td>0.0</td>\n",
              "      <td>0</td>\n",
              "      <td>0</td>\n",
              "      <td>0.0</td>\n",
              "      <td>0.0</td>\n",
              "      <td>0</td>\n",
              "      <td>0</td>\n",
              "      <td>BENIGN</td>\n",
              "    </tr>\n",
              "  </tbody>\n",
              "</table>\n",
              "<p>5 rows × 85 columns</p>\n",
              "</div>\n",
              "    <div class=\"colab-df-buttons\">\n",
              "\n",
              "  <div class=\"colab-df-container\">\n",
              "    <button class=\"colab-df-convert\" onclick=\"convertToInteractive('df-18291eb4-6dc5-468f-ae83-8139ceb4fcde')\"\n",
              "            title=\"Convert this dataframe to an interactive table.\"\n",
              "            style=\"display:none;\">\n",
              "\n",
              "  <svg xmlns=\"http://www.w3.org/2000/svg\" height=\"24px\" viewBox=\"0 -960 960 960\">\n",
              "    <path d=\"M120-120v-720h720v720H120Zm60-500h600v-160H180v160Zm220 220h160v-160H400v160Zm0 220h160v-160H400v160ZM180-400h160v-160H180v160Zm440 0h160v-160H620v160ZM180-180h160v-160H180v160Zm440 0h160v-160H620v160Z\"/>\n",
              "  </svg>\n",
              "    </button>\n",
              "\n",
              "  <style>\n",
              "    .colab-df-container {\n",
              "      display:flex;\n",
              "      gap: 12px;\n",
              "    }\n",
              "\n",
              "    .colab-df-convert {\n",
              "      background-color: #E8F0FE;\n",
              "      border: none;\n",
              "      border-radius: 50%;\n",
              "      cursor: pointer;\n",
              "      display: none;\n",
              "      fill: #1967D2;\n",
              "      height: 32px;\n",
              "      padding: 0 0 0 0;\n",
              "      width: 32px;\n",
              "    }\n",
              "\n",
              "    .colab-df-convert:hover {\n",
              "      background-color: #E2EBFA;\n",
              "      box-shadow: 0px 1px 2px rgba(60, 64, 67, 0.3), 0px 1px 3px 1px rgba(60, 64, 67, 0.15);\n",
              "      fill: #174EA6;\n",
              "    }\n",
              "\n",
              "    .colab-df-buttons div {\n",
              "      margin-bottom: 4px;\n",
              "    }\n",
              "\n",
              "    [theme=dark] .colab-df-convert {\n",
              "      background-color: #3B4455;\n",
              "      fill: #D2E3FC;\n",
              "    }\n",
              "\n",
              "    [theme=dark] .colab-df-convert:hover {\n",
              "      background-color: #434B5C;\n",
              "      box-shadow: 0px 1px 3px 1px rgba(0, 0, 0, 0.15);\n",
              "      filter: drop-shadow(0px 1px 2px rgba(0, 0, 0, 0.3));\n",
              "      fill: #FFFFFF;\n",
              "    }\n",
              "  </style>\n",
              "\n",
              "    <script>\n",
              "      const buttonEl =\n",
              "        document.querySelector('#df-18291eb4-6dc5-468f-ae83-8139ceb4fcde button.colab-df-convert');\n",
              "      buttonEl.style.display =\n",
              "        google.colab.kernel.accessAllowed ? 'block' : 'none';\n",
              "\n",
              "      async function convertToInteractive(key) {\n",
              "        const element = document.querySelector('#df-18291eb4-6dc5-468f-ae83-8139ceb4fcde');\n",
              "        const dataTable =\n",
              "          await google.colab.kernel.invokeFunction('convertToInteractive',\n",
              "                                                    [key], {});\n",
              "        if (!dataTable) return;\n",
              "\n",
              "        const docLinkHtml = 'Like what you see? Visit the ' +\n",
              "          '<a target=\"_blank\" href=https://colab.research.google.com/notebooks/data_table.ipynb>data table notebook</a>'\n",
              "          + ' to learn more about interactive tables.';\n",
              "        element.innerHTML = '';\n",
              "        dataTable['output_type'] = 'display_data';\n",
              "        await google.colab.output.renderOutput(dataTable, element);\n",
              "        const docLink = document.createElement('div');\n",
              "        docLink.innerHTML = docLinkHtml;\n",
              "        element.appendChild(docLink);\n",
              "      }\n",
              "    </script>\n",
              "  </div>\n",
              "\n",
              "\n",
              "<div id=\"df-16e148df-95d9-42c1-a42c-303b193819c6\">\n",
              "  <button class=\"colab-df-quickchart\" onclick=\"quickchart('df-16e148df-95d9-42c1-a42c-303b193819c6')\"\n",
              "            title=\"Suggest charts\"\n",
              "            style=\"display:none;\">\n",
              "\n",
              "<svg xmlns=\"http://www.w3.org/2000/svg\" height=\"24px\"viewBox=\"0 0 24 24\"\n",
              "     width=\"24px\">\n",
              "    <g>\n",
              "        <path d=\"M19 3H5c-1.1 0-2 .9-2 2v14c0 1.1.9 2 2 2h14c1.1 0 2-.9 2-2V5c0-1.1-.9-2-2-2zM9 17H7v-7h2v7zm4 0h-2V7h2v10zm4 0h-2v-4h2v4z\"/>\n",
              "    </g>\n",
              "</svg>\n",
              "  </button>\n",
              "\n",
              "<style>\n",
              "  .colab-df-quickchart {\n",
              "      --bg-color: #E8F0FE;\n",
              "      --fill-color: #1967D2;\n",
              "      --hover-bg-color: #E2EBFA;\n",
              "      --hover-fill-color: #174EA6;\n",
              "      --disabled-fill-color: #AAA;\n",
              "      --disabled-bg-color: #DDD;\n",
              "  }\n",
              "\n",
              "  [theme=dark] .colab-df-quickchart {\n",
              "      --bg-color: #3B4455;\n",
              "      --fill-color: #D2E3FC;\n",
              "      --hover-bg-color: #434B5C;\n",
              "      --hover-fill-color: #FFFFFF;\n",
              "      --disabled-bg-color: #3B4455;\n",
              "      --disabled-fill-color: #666;\n",
              "  }\n",
              "\n",
              "  .colab-df-quickchart {\n",
              "    background-color: var(--bg-color);\n",
              "    border: none;\n",
              "    border-radius: 50%;\n",
              "    cursor: pointer;\n",
              "    display: none;\n",
              "    fill: var(--fill-color);\n",
              "    height: 32px;\n",
              "    padding: 0;\n",
              "    width: 32px;\n",
              "  }\n",
              "\n",
              "  .colab-df-quickchart:hover {\n",
              "    background-color: var(--hover-bg-color);\n",
              "    box-shadow: 0 1px 2px rgba(60, 64, 67, 0.3), 0 1px 3px 1px rgba(60, 64, 67, 0.15);\n",
              "    fill: var(--button-hover-fill-color);\n",
              "  }\n",
              "\n",
              "  .colab-df-quickchart-complete:disabled,\n",
              "  .colab-df-quickchart-complete:disabled:hover {\n",
              "    background-color: var(--disabled-bg-color);\n",
              "    fill: var(--disabled-fill-color);\n",
              "    box-shadow: none;\n",
              "  }\n",
              "\n",
              "  .colab-df-spinner {\n",
              "    border: 2px solid var(--fill-color);\n",
              "    border-color: transparent;\n",
              "    border-bottom-color: var(--fill-color);\n",
              "    animation:\n",
              "      spin 1s steps(1) infinite;\n",
              "  }\n",
              "\n",
              "  @keyframes spin {\n",
              "    0% {\n",
              "      border-color: transparent;\n",
              "      border-bottom-color: var(--fill-color);\n",
              "      border-left-color: var(--fill-color);\n",
              "    }\n",
              "    20% {\n",
              "      border-color: transparent;\n",
              "      border-left-color: var(--fill-color);\n",
              "      border-top-color: var(--fill-color);\n",
              "    }\n",
              "    30% {\n",
              "      border-color: transparent;\n",
              "      border-left-color: var(--fill-color);\n",
              "      border-top-color: var(--fill-color);\n",
              "      border-right-color: var(--fill-color);\n",
              "    }\n",
              "    40% {\n",
              "      border-color: transparent;\n",
              "      border-right-color: var(--fill-color);\n",
              "      border-top-color: var(--fill-color);\n",
              "    }\n",
              "    60% {\n",
              "      border-color: transparent;\n",
              "      border-right-color: var(--fill-color);\n",
              "    }\n",
              "    80% {\n",
              "      border-color: transparent;\n",
              "      border-right-color: var(--fill-color);\n",
              "      border-bottom-color: var(--fill-color);\n",
              "    }\n",
              "    90% {\n",
              "      border-color: transparent;\n",
              "      border-bottom-color: var(--fill-color);\n",
              "    }\n",
              "  }\n",
              "</style>\n",
              "\n",
              "  <script>\n",
              "    async function quickchart(key) {\n",
              "      const quickchartButtonEl =\n",
              "        document.querySelector('#' + key + ' button');\n",
              "      quickchartButtonEl.disabled = true;  // To prevent multiple clicks.\n",
              "      quickchartButtonEl.classList.add('colab-df-spinner');\n",
              "      try {\n",
              "        const charts = await google.colab.kernel.invokeFunction(\n",
              "            'suggestCharts', [key], {});\n",
              "      } catch (error) {\n",
              "        console.error('Error during call to suggestCharts:', error);\n",
              "      }\n",
              "      quickchartButtonEl.classList.remove('colab-df-spinner');\n",
              "      quickchartButtonEl.classList.add('colab-df-quickchart-complete');\n",
              "    }\n",
              "    (() => {\n",
              "      let quickchartButtonEl =\n",
              "        document.querySelector('#df-16e148df-95d9-42c1-a42c-303b193819c6 button');\n",
              "      quickchartButtonEl.style.display =\n",
              "        google.colab.kernel.accessAllowed ? 'block' : 'none';\n",
              "    })();\n",
              "  </script>\n",
              "</div>\n",
              "\n",
              "    </div>\n",
              "  </div>\n"
            ],
            "application/vnd.google.colaboratory.intrinsic+json": {
              "type": "dataframe",
              "variable_name": "df"
            }
          },
          "metadata": {},
          "execution_count": 83
        }
      ],
      "source": [
        "import pandas as pd\n",
        "import numpy as np\n",
        "\n",
        "# Load dataset\n",
        "df= pd.read_csv('CICDDoS2019.csv')\n",
        "df.head()"
      ]
    },
    {
      "cell_type": "markdown",
      "source": [
        "1. Data Preprocessing\n",
        "1.1 Initial Cleaning"
      ],
      "metadata": {
        "id": "eyRCam6vS_Pw"
      }
    },
    {
      "cell_type": "code",
      "source": [
        "print(df.columns.tolist())"
      ],
      "metadata": {
        "colab": {
          "base_uri": "https://localhost:8080/"
        },
        "id": "o7Dq0vj6OhN5",
        "outputId": "70481ccb-f889-4179-b135-3cd86056c0cc"
      },
      "execution_count": null,
      "outputs": [
        {
          "output_type": "stream",
          "name": "stdout",
          "text": [
            "['Flow ID', ' Source IP', ' Source Port', ' Destination IP', ' Destination Port', ' Protocol', ' Timestamp', ' Flow Duration', ' Total Fwd Packets', ' Total Backward Packets', 'Total Length of Fwd Packets', ' Total Length of Bwd Packets', ' Fwd Packet Length Max', ' Fwd Packet Length Min', ' Fwd Packet Length Mean', ' Fwd Packet Length Std', 'Bwd Packet Length Max', ' Bwd Packet Length Min', ' Bwd Packet Length Mean', ' Bwd Packet Length Std', 'Flow Bytes/s', ' Flow Packets/s', ' Flow IAT Mean', ' Flow IAT Std', ' Flow IAT Max', ' Flow IAT Min', 'Fwd IAT Total', ' Fwd IAT Mean', ' Fwd IAT Std', ' Fwd IAT Max', ' Fwd IAT Min', 'Bwd IAT Total', ' Bwd IAT Mean', ' Bwd IAT Std', ' Bwd IAT Max', ' Bwd IAT Min', 'Fwd PSH Flags', ' Bwd PSH Flags', ' Fwd URG Flags', ' Bwd URG Flags', ' Fwd Header Length', ' Bwd Header Length', 'Fwd Packets/s', ' Bwd Packets/s', ' Min Packet Length', ' Max Packet Length', ' Packet Length Mean', ' Packet Length Std', ' Packet Length Variance', 'FIN Flag Count', ' SYN Flag Count', ' RST Flag Count', ' PSH Flag Count', ' ACK Flag Count', ' URG Flag Count', ' CWE Flag Count', ' ECE Flag Count', ' Down/Up Ratio', ' Average Packet Size', ' Avg Fwd Segment Size', ' Avg Bwd Segment Size', ' Fwd Header Length.1', 'Fwd Avg Bytes/Bulk', ' Fwd Avg Packets/Bulk', ' Fwd Avg Bulk Rate', ' Bwd Avg Bytes/Bulk', ' Bwd Avg Packets/Bulk', 'Bwd Avg Bulk Rate', 'Subflow Fwd Packets', ' Subflow Fwd Bytes', ' Subflow Bwd Packets', ' Subflow Bwd Bytes', 'Init_Win_bytes_forward', ' Init_Win_bytes_backward', ' act_data_pkt_fwd', ' min_seg_size_forward', 'Active Mean', ' Active Std', ' Active Max', ' Active Min', 'Idle Mean', ' Idle Std', ' Idle Max', ' Idle Min', ' Label']\n"
          ]
        }
      ]
    },
    {
      "cell_type": "code",
      "source": [
        "# Try stripping whitespace from column names\n",
        "df.columns = df.columns.str.strip()"
      ],
      "metadata": {
        "id": "__Hhgs-uOmEA"
      },
      "execution_count": null,
      "outputs": []
    },
    {
      "cell_type": "code",
      "source": [
        "# Drop unnecessary columns - with proper syntax\n",
        "df.drop(['Flow ID', 'Source IP', 'Destination IP'], axis=1, inplace=True)\n",
        "\n",
        "# Convert timestamp to datetime\n",
        "df['Timestamp'] = pd.to_datetime(df['Timestamp'])\n",
        "\n",
        "# Handle missing values\n",
        "df.fillna(method='ffill', inplace=True)"
      ],
      "metadata": {
        "colab": {
          "base_uri": "https://localhost:8080/"
        },
        "id": "qSGfwXxCNyYn",
        "outputId": "0d4a6a43-e282-4cbd-ded8-cf03475857e2"
      },
      "execution_count": null,
      "outputs": [
        {
          "output_type": "stream",
          "name": "stderr",
          "text": [
            "<ipython-input-86-628450ff99d3>:8: FutureWarning: DataFrame.fillna with 'method' is deprecated and will raise in a future version. Use obj.ffill() or obj.bfill() instead.\n",
            "  df.fillna(method='ffill', inplace=True)\n"
          ]
        }
      ]
    },
    {
      "cell_type": "markdown",
      "source": [
        "1.2 Feature Engineering"
      ],
      "metadata": {
        "id": "0fp1a7K8TNGo"
      }
    },
    {
      "cell_type": "code",
      "source": [
        "# Convert labels to binary (case-insensitive)\n",
        "print(\"\\nOriginal label values:\", df['Label'].unique())\n",
        "\n",
        "label_mapping = {\n",
        "    'benign': 0, 'benign': 0, 'BENIGN': 0,\n",
        "    'attack': 1, 'Attack': 1, 'ATTACK': 1\n",
        "}\n",
        "df['Label'] = df['Label'].map(label_mapping).fillna(1)  # Assume anything not benign is attack\n",
        "\n",
        "print(\"Converted label values:\", df['Label'].unique())\n",
        "print(\"Class distribution:\")\n",
        "print(df['Label'].value_counts())"
      ],
      "metadata": {
        "colab": {
          "base_uri": "https://localhost:8080/"
        },
        "id": "sxGVYq4IPwyk",
        "outputId": "1452276a-8967-4633-870d-b1b75d06113c"
      },
      "execution_count": null,
      "outputs": [
        {
          "output_type": "stream",
          "name": "stdout",
          "text": [
            "\n",
            "Original label values: ['BENIGN' 'DDoS']\n",
            "Converted label values: [0. 1.]\n",
            "Class distribution:\n",
            "Label\n",
            "1.0    128027\n",
            "0.0     97718\n",
            "Name: count, dtype: int64\n"
          ]
        }
      ]
    },
    {
      "cell_type": "code",
      "source": [
        "# Create time-based features\n",
        "df['hour'] = df['Timestamp'].dt.hour\n",
        "df['day_of_week'] = df['Timestamp'].dt.dayofweek\n",
        "df['is_weekend'] = df['day_of_week'].isin([5,6]).astype(int)\n",
        "\n"
      ],
      "metadata": {
        "id": "FFhkie-WOywd"
      },
      "execution_count": null,
      "outputs": []
    },
    {
      "cell_type": "code",
      "source": [
        "from sklearn.preprocessing import MinMaxScaler\n",
        "\n",
        "# Identify numerical columns (excluding label)\n",
        "numerical_cols = df.select_dtypes(include=[np.number]).columns.tolist()\n",
        "if 'Label' in numerical_cols:\n",
        "    numerical_cols.remove('Label')\n",
        "\n",
        "# Clean infinite values\n",
        "df[numerical_cols] = df[numerical_cols].replace([np.inf, -np.inf], np.nan)\n",
        "df[numerical_cols] = df[numerical_cols].fillna(df[numerical_cols].median())\n",
        "\n",
        "# Normalize features\n",
        "scaler = MinMaxScaler()\n",
        "df[numerical_cols] = scaler.fit_transform(df[numerical_cols])\n",
        "\n",
        "print(\"\\nAfter normalization:\")\n",
        "print(df[numerical_cols].describe().loc[['min', 'max']])"
      ],
      "metadata": {
        "colab": {
          "base_uri": "https://localhost:8080/"
        },
        "id": "00Pj_2ZDfrCN",
        "outputId": "84f396fc-fe49-4959-9922-daa1f70add37"
      },
      "execution_count": null,
      "outputs": [
        {
          "output_type": "stream",
          "name": "stdout",
          "text": [
            "\n",
            "After normalization:\n",
            "     Source Port  Destination Port  Protocol  Flow Duration  \\\n",
            "min          0.0               0.0       0.0            0.0   \n",
            "max          1.0               1.0       1.0            1.0   \n",
            "\n",
            "     Total Fwd Packets  Total Backward Packets  Total Length of Fwd Packets  \\\n",
            "min                0.0                     0.0                          0.0   \n",
            "max                1.0                     1.0                          1.0   \n",
            "\n",
            "     Total Length of Bwd Packets  Fwd Packet Length Max  \\\n",
            "min                          0.0                    0.0   \n",
            "max                          1.0                    1.0   \n",
            "\n",
            "     Fwd Packet Length Min  ...  Active Std  Active Max  Active Min  \\\n",
            "min                    0.0  ...         0.0         0.0         0.0   \n",
            "max                    1.0  ...         1.0         1.0         1.0   \n",
            "\n",
            "     Idle Mean  Idle Std  Idle Max  Idle Min  hour  day_of_week  is_weekend  \n",
            "min        0.0       0.0       0.0       0.0   0.0          0.0         0.0  \n",
            "max        1.0       1.0       1.0       1.0   1.0          0.0         0.0  \n",
            "\n",
            "[2 rows x 83 columns]\n"
          ]
        }
      ]
    },
    {
      "cell_type": "markdown",
      "source": [
        "2. Time Series Transformation\n",
        "2.1 Aggregating to Time Intervals"
      ],
      "metadata": {
        "id": "yeXv6hvrTTYd"
      }
    },
    {
      "cell_type": "code",
      "source": [
        "# Set timestamp as index and resample\n",
        "df.set_index('Timestamp', inplace=True)\n",
        "time_series = df.resample('1T').agg({\n",
        "    'Label': 'mean',\n",
        "    'Flow Bytes/s': 'mean',\n",
        "    'Flow Packets/s': 'mean',\n",
        "    'Total Fwd Packets': 'sum',\n",
        "    'Total Backward Packets': 'sum'\n",
        "})\n",
        "\n",
        "# Create binary attack label\n",
        "time_series['Attack'] = (time_series['Label'] > 0.5).astype(int)\n",
        "\n",
        "print(\"\\nTime series shape:\", time_series.shape)\n",
        "print(\"\\nTime series head:\")\n",
        "print(time_series.head())"
      ],
      "metadata": {
        "colab": {
          "base_uri": "https://localhost:8080/"
        },
        "id": "7R-J_exmS3M5",
        "outputId": "4a5f7ccd-6e0e-4076-92e4-89c41747dbe5"
      },
      "execution_count": null,
      "outputs": [
        {
          "output_type": "stream",
          "name": "stdout",
          "text": [
            "\n",
            "Time series shape: (93, 6)\n",
            "\n",
            "Time series head:\n",
            "                     Label  Flow Bytes/s  Flow Packets/s  Total Fwd Packets  \\\n",
            "Timestamp                                                                     \n",
            "2017-07-07 03:30:00    0.0      0.006341        0.409341           9.805800   \n",
            "2017-07-07 03:31:00    0.0      0.006217        0.406935           6.039358   \n",
            "2017-07-07 03:32:00    0.0      0.008009        0.418204           0.851372   \n",
            "2017-07-07 03:33:00    0.0      0.006427        0.408701           3.515277   \n",
            "2017-07-07 03:34:00    0.0      0.006412        0.409649           2.338167   \n",
            "\n",
            "                     Total Backward Packets  Attack  \n",
            "Timestamp                                            \n",
            "2017-07-07 03:30:00                7.790619       0  \n",
            "2017-07-07 03:31:00                4.741672       0  \n",
            "2017-07-07 03:32:00                0.635282       0  \n",
            "2017-07-07 03:33:00                2.673691       0  \n",
            "2017-07-07 03:34:00                1.773623       0  \n"
          ]
        },
        {
          "output_type": "stream",
          "name": "stderr",
          "text": [
            "<ipython-input-90-d08adbdf5863>:3: FutureWarning: 'T' is deprecated and will be removed in a future version, please use 'min' instead.\n",
            "  time_series = df.resample('1T').agg({\n"
          ]
        }
      ]
    },
    {
      "cell_type": "markdown",
      "source": [
        "2.2 Stationarity Check"
      ],
      "metadata": {
        "id": "6mvhmS49Tcdc"
      }
    },
    {
      "cell_type": "code",
      "source": [
        "from statsmodels.tsa.stattools import adfuller\n",
        "\n",
        "# Check stationarity for key features\n",
        "for col in ['Flow Bytes/s', 'Flow Packets/s']:\n",
        "    if col in time_series.columns:\n",
        "        result = adfuller(time_series[col].dropna())\n",
        "        print(f\"\\n{col} stationarity test:\")\n",
        "        print(f\"ADF Statistic: {result[0]:.4f}\")\n",
        "        print(f\"p-value: {result[1]:.4f}\")\n",
        "        if result[1] > 0.05:\n",
        "            time_series[f'{col}_diff'] = time_series[col].diff().dropna()\n",
        "            print(f\"Created differenced version: {col}_diff\")"
      ],
      "metadata": {
        "colab": {
          "base_uri": "https://localhost:8080/"
        },
        "id": "oUJV57VxTQLB",
        "outputId": "93c0976c-c4c8-4259-d0ad-659134149823"
      },
      "execution_count": null,
      "outputs": [
        {
          "output_type": "stream",
          "name": "stdout",
          "text": [
            "\n",
            "Flow Bytes/s stationarity test:\n",
            "ADF Statistic: -4.5847\n",
            "p-value: 0.0001\n",
            "\n",
            "Flow Packets/s stationarity test:\n",
            "ADF Statistic: -2.3046\n",
            "p-value: 0.1705\n",
            "Created differenced version: Flow Packets/s_diff\n"
          ]
        }
      ]
    },
    {
      "cell_type": "code",
      "source": [
        "import matplotlib.pyplot as plt\n",
        "\n",
        "plt.figure(figsize=(14, 6))\n",
        "for col in ['Flow Bytes/s', 'Flow Packets/s']:\n",
        "    if col in time_series.columns:\n",
        "        plt.plot(time_series.index, time_series[col], label=col)\n",
        "\n",
        "plt.title('Network Flow Metrics Over Time')\n",
        "plt.xlabel('Time')\n",
        "plt.ylabel('Value')\n",
        "plt.legend()\n",
        "plt.grid(True)\n",
        "plt.tight_layout()\n",
        "plt.show()\n"
      ],
      "metadata": {
        "colab": {
          "base_uri": "https://localhost:8080/",
          "height": 607
        },
        "id": "vsEfFWDnWS4S",
        "outputId": "5739a936-02ae-4a35-b4aa-506d0d597e5a"
      },
      "execution_count": null,
      "outputs": [
        {
          "output_type": "display_data",
          "data": {
            "text/plain": [
              "<Figure size 1400x600 with 1 Axes>"
            ],
            "image/png": "[encoded data removed]"
          },
          "metadata": {}
        }
      ]
    },
    {
      "cell_type": "markdown",
      "source": [
        "3. Feature Selection for Time Series\n"
      ],
      "metadata": {
        "id": "4qNaAx9mTphV"
      }
    },
    {
      "cell_type": "code",
      "source": [
        "from statsmodels.tsa.stattools import grangercausalitytests\n",
        "\n",
        "print(\"\\nRunning Granger causality tests...\")\n",
        "maxlag = 12\n",
        "test = 'ssr_chi2test'\n",
        "causal_features = []\n",
        "\n",
        "for feature in [col for col in time_series.columns if col != 'Attack']:\n",
        "    try:\n",
        "        # Ensure we have enough data points\n",
        "        test_data = time_series[[feature, 'Attack']].dropna()\n",
        "        if len(test_data) < maxlag * 2:\n",
        "            print(f\"Skipping {feature} - insufficient data\")\n",
        "            continue\n",
        "\n",
        "        gc_res = grangercausalitytests(test_data, maxlag=maxlag, verbose=False)\n",
        "        p_values = [round(gc_res[i+1][0][test][1], 4) for i in range(maxlag)]\n",
        "\n",
        "        if min(p_values) < 0.05:\n",
        "            causal_features.append(feature)\n",
        "            print(f\"{feature}: Significant (min p-value={min(p_values):.4f})\")\n",
        "\n",
        "    except Exception as e:\n",
        "        print(f\"Skipped {feature}: {str(e)}\")\n",
        "\n",
        "# Fallback if no significant features\n",
        "if not causal_features:\n",
        "    print(\"\\nNo significant features found - using top 5 most variable features\")\n",
        "    causal_features = time_series.drop(columns=['Attack', 'Label']).var().nlargest(5).index.tolist()\n",
        "\n",
        "print(\"\\nSelected causal features:\", causal_features)"
      ],
      "metadata": {
        "colab": {
          "base_uri": "https://localhost:8080/"
        },
        "id": "crBLbv7_zLKA",
        "outputId": "e3b7f4d3-4996-4836-f835-48e3947e52a0"
      },
      "execution_count": null,
      "outputs": [
        {
          "output_type": "stream",
          "name": "stdout",
          "text": [
            "\n",
            "Running Granger causality tests...\n"
          ]
        },
        {
          "output_type": "stream",
          "name": "stderr",
          "text": [
            "/usr/local/lib/python3.11/dist-packages/statsmodels/tsa/stattools.py:1556: FutureWarning: verbose is deprecated since functions should not print results\n",
            "  warnings.warn(\n",
            "/usr/local/lib/python3.11/dist-packages/statsmodels/tsa/stattools.py:1556: FutureWarning: verbose is deprecated since functions should not print results\n",
            "  warnings.warn(\n"
          ]
        },
        {
          "output_type": "stream",
          "name": "stdout",
          "text": [
            "Label: Significant (min p-value=0.0000)\n",
            "Flow Bytes/s: Significant (min p-value=0.0002)\n",
            "Flow Packets/s: Significant (min p-value=0.0000)\n",
            "Total Fwd Packets: Significant (min p-value=0.0000)\n",
            "Total Backward Packets: Significant (min p-value=0.0000)\n"
          ]
        },
        {
          "output_type": "stream",
          "name": "stderr",
          "text": [
            "/usr/local/lib/python3.11/dist-packages/statsmodels/tsa/stattools.py:1556: FutureWarning: verbose is deprecated since functions should not print results\n",
            "  warnings.warn(\n",
            "/usr/local/lib/python3.11/dist-packages/statsmodels/tsa/stattools.py:1556: FutureWarning: verbose is deprecated since functions should not print results\n",
            "  warnings.warn(\n",
            "/usr/local/lib/python3.11/dist-packages/statsmodels/tsa/stattools.py:1556: FutureWarning: verbose is deprecated since functions should not print results\n",
            "  warnings.warn(\n",
            "/usr/local/lib/python3.11/dist-packages/statsmodels/tsa/stattools.py:1556: FutureWarning: verbose is deprecated since functions should not print results\n",
            "  warnings.warn(\n"
          ]
        },
        {
          "output_type": "stream",
          "name": "stdout",
          "text": [
            "Flow Packets/s_diff: Significant (min p-value=0.0040)\n",
            "\n",
            "Selected causal features: ['Label', 'Flow Bytes/s', 'Flow Packets/s', 'Total Fwd Packets', 'Total Backward Packets', 'Flow Packets/s_diff']\n"
          ]
        }
      ]
    },
    {
      "cell_type": "code",
      "source": [
        "# Prepare target and features\n",
        "target = time_series['Attack']\n",
        "features = time_series[causal_features] if causal_features else None\n",
        "\n",
        "print(\"\\nFinal data shapes:\")\n",
        "print(\"Target:\", target.shape)\n",
        "if features is not None:\n",
        "    print(\"Features:\", features.shape)"
      ],
      "metadata": {
        "colab": {
          "base_uri": "https://localhost:8080/"
        },
        "id": "_nLxh_S9zY3D",
        "outputId": "c8f4e710-437d-4750-81bc-72e8a4ee1e59"
      },
      "execution_count": null,
      "outputs": [
        {
          "output_type": "stream",
          "name": "stdout",
          "text": [
            "\n",
            "Final data shapes:\n",
            "Target: (93,)\n",
            "Features: (93, 6)\n"
          ]
        }
      ]
    },
    {
      "cell_type": "code",
      "source": [
        "# Drop any remaining NaNs or infs from features and target\n",
        "features = features.replace([np.inf, -np.inf], np.nan)\n",
        "features = features.fillna(method='ffill').fillna(method='bfill')  # Use both directions if needed\n",
        "\n",
        "# Ensure target is also clean\n",
        "target = target.fillna(method='ffill').fillna(method='bfill')\n"
      ],
      "metadata": {
        "colab": {
          "base_uri": "https://localhost:8080/"
        },
        "id": "q8PF0rrpr596",
        "outputId": "877272eb-4b49-4a6f-bb63-ddbbf9c2ac49"
      },
      "execution_count": null,
      "outputs": [
        {
          "output_type": "stream",
          "name": "stderr",
          "text": [
            "<ipython-input-106-bd1590af5f40>:3: FutureWarning: DataFrame.fillna with 'method' is deprecated and will raise in a future version. Use obj.ffill() or obj.bfill() instead.\n",
            "  features = features.fillna(method='ffill').fillna(method='bfill')  # Use both directions if needed\n",
            "<ipython-input-106-bd1590af5f40>:6: FutureWarning: Series.fillna with 'method' is deprecated and will raise in a future version. Use obj.ffill() or obj.bfill() instead.\n",
            "  target = target.fillna(method='ffill').fillna(method='bfill')\n"
          ]
        }
      ]
    },
    {
      "cell_type": "code",
      "source": [
        "# Visualiser la distribution des classes dans la cible\n",
        "print(\"\\nDistribution des classes de 'Attack':\")\n",
        "print(target.value_counts())\n"
      ],
      "metadata": {
        "colab": {
          "base_uri": "https://localhost:8080/"
        },
        "id": "0q9r3cJ0Z-RI",
        "outputId": "214adb16-b57c-40bf-8854-d986b402360a"
      },
      "execution_count": null,
      "outputs": [
        {
          "output_type": "stream",
          "name": "stdout",
          "text": [
            "\n",
            "Distribution des classes de 'Attack':\n",
            "Attack\n",
            "0    73\n",
            "1    20\n",
            "Name: count, dtype: int64\n"
          ]
        }
      ]
    },
    {
      "cell_type": "code",
      "source": [
        "import matplotlib.pyplot as plt\n",
        "\n",
        "# Personnalisation des labels\n",
        "class_names = {0: 'Benign', 1: 'Attack'}\n",
        "\n",
        "# Affichage de la distribution avec un graphique\n",
        "ax = target.value_counts().plot(kind='bar', title=\"Distribution des classes de 'Attack'\", color=['blue', 'red'])\n",
        "\n",
        "# Ajouter les étiquettes et améliorer le graphique\n",
        "ax.set_xlabel('Classe')\n",
        "ax.set_ylabel('Nombre d\\'instances')\n",
        "ax.set_xticklabels([class_names[int(i)] for i in ax.get_xticks()])  # Remplacer les indices par les labels\n",
        "ax.set_title(\"Distribution des classes de 'Attack'\")\n",
        "\n",
        "# Afficher le graphique\n",
        "plt.show()\n",
        "\n"
      ],
      "metadata": {
        "colab": {
          "base_uri": "https://localhost:8080/",
          "height": 506
        },
        "id": "CKREGMNaaBWm",
        "outputId": "b50abcb4-89bb-4794-d347-3bbaaca4124b"
      },
      "execution_count": null,
      "outputs": [
        {
          "output_type": "display_data",
          "data": {
            "text/plain": [
              "<Figure size 640x480 with 1 Axes>"
            ],
            "image/png": "[encoded data removed]"
          },
          "metadata": {}
        }
      ]
    },
    {
      "cell_type": "markdown",
      "source": [
        "4.ARFIMA Model Implementation"
      ],
      "metadata": {
        "id": "XJikr2N-kXbY"
      }
    },
    {
      "cell_type": "code",
      "source": [
        "!pip install pmdarima\n"
      ],
      "metadata": {
        "colab": {
          "base_uri": "https://localhost:8080/"
        },
        "id": "7-LSoxyprQ2f",
        "outputId": "0b132942-f385-4a29-daff-e7c055569de3",
        "collapsed": true
      },
      "execution_count": null,
      "outputs": [
        {
          "output_type": "stream",
          "name": "stdout",
          "text": [
            "Requirement already satisfied: pmdarima in /usr/local/lib/python3.11/dist-packages (2.0.4)\n",
            "Requirement already satisfied: joblib>=0.11 in /usr/local/lib/python3.11/dist-packages (from pmdarima) (1.4.2)\n",
            "Requirement already satisfied: Cython!=0.29.18,!=0.29.31,>=0.29 in /usr/local/lib/python3.11/dist-packages (from pmdarima) (3.0.12)\n",
            "Requirement already satisfied: numpy>=1.21.2 in /usr/local/lib/python3.11/dist-packages (from pmdarima) (1.24.4)\n",
            "Requirement already satisfied: pandas>=0.19 in /usr/local/lib/python3.11/dist-packages (from pmdarima) (2.2.2)\n",
            "Requirement already satisfied: scikit-learn>=0.22 in /usr/local/lib/python3.11/dist-packages (from pmdarima) (1.6.1)\n",
            "Requirement already satisfied: scipy>=1.3.2 in /usr/local/lib/python3.11/dist-packages (from pmdarima) (1.14.1)\n",
            "Requirement already satisfied: statsmodels>=0.13.2 in /usr/local/lib/python3.11/dist-packages (from pmdarima) (0.14.4)\n",
            "Requirement already satisfied: urllib3 in /usr/local/lib/python3.11/dist-packages (from pmdarima) (2.3.0)\n",
            "Requirement already satisfied: setuptools!=50.0.0,>=38.6.0 in /usr/local/lib/python3.11/dist-packages (from pmdarima) (75.2.0)\n",
            "Requirement already satisfied: packaging>=17.1 in /usr/local/lib/python3.11/dist-packages (from pmdarima) (24.2)\n",
            "Requirement already satisfied: python-dateutil>=2.8.2 in /usr/local/lib/python3.11/dist-packages (from pandas>=0.19->pmdarima) (2.8.2)\n",
            "Requirement already satisfied: pytz>=2020.1 in /usr/local/lib/python3.11/dist-packages (from pandas>=0.19->pmdarima) (2025.2)\n",
            "Requirement already satisfied: tzdata>=2022.7 in /usr/local/lib/python3.11/dist-packages (from pandas>=0.19->pmdarima) (2025.2)\n",
            "Requirement already satisfied: threadpoolctl>=3.1.0 in /usr/local/lib/python3.11/dist-packages (from scikit-learn>=0.22->pmdarima) (3.6.0)\n",
            "Requirement already satisfied: patsy>=0.5.6 in /usr/local/lib/python3.11/dist-packages (from statsmodels>=0.13.2->pmdarima) (1.0.1)\n",
            "Requirement already satisfied: six>=1.5 in /usr/local/lib/python3.11/dist-packages (from python-dateutil>=2.8.2->pandas>=0.19->pmdarima) (1.17.0)\n"
          ]
        }
      ]
    },
    {
      "cell_type": "code",
      "source": [
        "!pip install arch"
      ],
      "metadata": {
        "colab": {
          "base_uri": "https://localhost:8080/"
        },
        "collapsed": true,
        "id": "t5x7j7vHy56v",
        "outputId": "71e642cf-fe7d-4d18-9f58-c804ab622d9f"
      },
      "execution_count": null,
      "outputs": [
        {
          "output_type": "stream",
          "name": "stdout",
          "text": [
            "Requirement already satisfied: arch in /usr/local/lib/python3.11/dist-packages (7.2.0)\n",
            "Requirement already satisfied: numpy>=1.22.3 in /usr/local/lib/python3.11/dist-packages (from arch) (1.24.4)\n",
            "Requirement already satisfied: scipy>=1.8 in /usr/local/lib/python3.11/dist-packages (from arch) (1.14.1)\n",
            "Requirement already satisfied: pandas>=1.4 in /usr/local/lib/python3.11/dist-packages (from arch) (2.2.2)\n",
            "Requirement already satisfied: statsmodels>=0.12 in /usr/local/lib/python3.11/dist-packages (from arch) (0.14.4)\n",
            "Requirement already satisfied: python-dateutil>=2.8.2 in /usr/local/lib/python3.11/dist-packages (from pandas>=1.4->arch) (2.8.2)\n",
            "Requirement already satisfied: pytz>=2020.1 in /usr/local/lib/python3.11/dist-packages (from pandas>=1.4->arch) (2025.2)\n",
            "Requirement already satisfied: tzdata>=2022.7 in /usr/local/lib/python3.11/dist-packages (from pandas>=1.4->arch) (2025.2)\n",
            "Requirement already satisfied: patsy>=0.5.6 in /usr/local/lib/python3.11/dist-packages (from statsmodels>=0.12->arch) (1.0.1)\n",
            "Requirement already satisfied: packaging>=21.3 in /usr/local/lib/python3.11/dist-packages (from statsmodels>=0.12->arch) (24.2)\n",
            "Requirement already satisfied: six>=1.5 in /usr/local/lib/python3.11/dist-packages (from python-dateutil>=2.8.2->pandas>=1.4->arch) (1.17.0)\n"
          ]
        }
      ]
    },
    {
      "cell_type": "code",
      "source": [
        "# 4. ARFIMA Model Implementation\n",
        "\n",
        "# Assurez-vous que pmdarima est bien installé :\n",
        "# !pip install pmdarima\n",
        "\n",
        "import pmdarima as pm\n",
        "from sklearn.metrics import classification_report, confusion_matrix, mean_squared_error\n",
        "import numpy as np\n",
        "\n",
        "print(\"\\nStarting ARFIMA modeling with pmdarima...\")\n",
        "\n",
        "# Appliquer un modèle ARFIMA avec auto_arima\n",
        "model = pm.auto_arima(\n",
        "    target,\n",
        "    exogenous=features,\n",
        "    start_p=1, start_q=1,\n",
        "    max_p=3, max_q=3,\n",
        "    d=None,                  # Laisse pmdarima estimer le paramètre d (différentiation fractionnaire)\n",
        "    seasonal=False,          # Pas de saisonnalité ici\n",
        "    stepwise=True,\n",
        "    suppress_warnings=True,\n",
        "    error_action='ignore',\n",
        "    trace=True\n",
        ")\n",
        "\n",
        "# Prédictions\n",
        "forecast = model.predict_in_sample(exogenous=features)\n",
        "predictions = (forecast > 0.5).astype(int)\n",
        "\n",
        "# Évaluation\n",
        "print(\"\\nModel Evaluation:\")\n",
        "print(\"Confusion Matrix:\")\n",
        "print(confusion_matrix(target, predictions))\n",
        "print(\"\\nClassification Report:\")\n",
        "print(classification_report(target, predictions))\n",
        "\n",
        "# Coefficients du modèle ARFIMA\n",
        "print(\"\\nARFIMA Model Summary:\")\n",
        "print(model.summary())\n",
        "\n",
        "# Calcul du RMSE\n",
        "rmse1 = np.sqrt(mean_squared_error(target, forecast))\n",
        "print(f\"\\nRMSE: {rmse1:.4f}\")\n",
        "# Assurez-vous que pmdarima est bien installé :\n",
        "# !pip install pmdarima\n",
        "\n",
        "import pmdarima as pm\n",
        "from sklearn.metrics import classification_report, confusion_matrix, mean_squared_error\n",
        "import numpy as np\n",
        "\n",
        "print(\"\\nStarting ARFIMA modeling with pmdarima...\")\n",
        "\n",
        "# Appliquer un modèle ARFIMA avec auto_arima\n",
        "model = pm.auto_arima(\n",
        "    target,\n",
        "    exogenous=features,\n",
        "    start_p=1, start_q=1,\n",
        "    max_p=3, max_q=3,\n",
        "    d=None,                  # Laisse pmdarima estimer le paramètre d (différentiation fractionnaire)\n",
        "    seasonal=False,          # Pas de saisonnalité ici\n",
        "    stepwise=True,\n",
        "    suppress_warnings=True,\n",
        "    error_action='ignore',\n",
        "    trace=True\n",
        ")\n",
        "\n",
        "# Prédictions\n",
        "forecast = model.predict_in_sample(exogenous=features)\n",
        "predictions = (forecast > 0.5).astype(int)\n",
        "\n",
        "# Évaluation\n",
        "print(\"\\nModel Evaluation:\")\n",
        "print(\"Confusion Matrix:\")\n",
        "print(confusion_matrix(target, predictions))\n",
        "print(\"\\nClassification Report:\")\n",
        "print(classification_report(target, predictions))\n",
        "\n",
        "# Coefficients du modèle ARFIMA\n",
        "print(\"\\nARFIMA Model Summary:\")\n",
        "print(model.summary())\n",
        "\n",
        "# Calcul du RMSE\n",
        "rmse1 = np.sqrt(mean_squared_error(target, forecast))\n",
        "print(f\"\\nRMSE: {rmse1:.4f}\")\n"
      ],
      "metadata": {
        "colab": {
          "base_uri": "https://localhost:8080/"
        },
        "id": "Px67EXtrni5s",
        "outputId": "67676104-beed-4300-e843-af8d3121fb6a"
      },
      "execution_count": null,
      "outputs": [
        {
          "output_type": "stream",
          "name": "stdout",
          "text": [
            "\n",
            "Starting ARFIMA modeling with pmdarima...\n",
            "Performing stepwise search to minimize aic\n"
          ]
        },
        {
          "output_type": "stream",
          "name": "stderr",
          "text": [
            "/usr/local/lib/python3.11/dist-packages/sklearn/utils/deprecation.py:151: FutureWarning: 'force_all_finite' was renamed to 'ensure_all_finite' in 1.6 and will be removed in 1.8.\n",
            "  warnings.warn(\n",
            "/usr/local/lib/python3.11/dist-packages/sklearn/utils/deprecation.py:151: FutureWarning: 'force_all_finite' was renamed to 'ensure_all_finite' in 1.6 and will be removed in 1.8.\n",
            "  warnings.warn(\n",
            "/usr/local/lib/python3.11/dist-packages/sklearn/utils/deprecation.py:151: FutureWarning: 'force_all_finite' was renamed to 'ensure_all_finite' in 1.6 and will be removed in 1.8.\n",
            "  warnings.warn(\n",
            "/usr/local/lib/python3.11/dist-packages/sklearn/utils/deprecation.py:151: FutureWarning: 'force_all_finite' was renamed to 'ensure_all_finite' in 1.6 and will be removed in 1.8.\n",
            "  warnings.warn(\n",
            "/usr/local/lib/python3.11/dist-packages/sklearn/utils/deprecation.py:151: FutureWarning: 'force_all_finite' was renamed to 'ensure_all_finite' in 1.6 and will be removed in 1.8.\n",
            "  warnings.warn(\n",
            "/usr/local/lib/python3.11/dist-packages/sklearn/utils/deprecation.py:151: FutureWarning: 'force_all_finite' was renamed to 'ensure_all_finite' in 1.6 and will be removed in 1.8.\n",
            "  warnings.warn(\n"
          ]
        },
        {
          "output_type": "stream",
          "name": "stdout",
          "text": [
            " ARIMA(1,0,1)(0,0,0)[0]             : AIC=-87.310, Time=0.23 sec\n",
            " ARIMA(0,0,0)(0,0,0)[0]             : AIC=122.994, Time=0.05 sec\n",
            " ARIMA(1,0,0)(0,0,0)[0]             : AIC=-89.257, Time=0.07 sec\n"
          ]
        },
        {
          "output_type": "stream",
          "name": "stderr",
          "text": [
            "/usr/local/lib/python3.11/dist-packages/sklearn/utils/deprecation.py:151: FutureWarning: 'force_all_finite' was renamed to 'ensure_all_finite' in 1.6 and will be removed in 1.8.\n",
            "  warnings.warn(\n",
            "/usr/local/lib/python3.11/dist-packages/sklearn/utils/deprecation.py:151: FutureWarning: 'force_all_finite' was renamed to 'ensure_all_finite' in 1.6 and will be removed in 1.8.\n",
            "  warnings.warn(\n",
            "/usr/local/lib/python3.11/dist-packages/sklearn/utils/deprecation.py:151: FutureWarning: 'force_all_finite' was renamed to 'ensure_all_finite' in 1.6 and will be removed in 1.8.\n",
            "  warnings.warn(\n"
          ]
        },
        {
          "output_type": "stream",
          "name": "stdout",
          "text": [
            " ARIMA(0,0,1)(0,0,0)[0]             : AIC=35.110, Time=0.34 sec\n",
            " ARIMA(2,0,0)(0,0,0)[0]             : AIC=-87.313, Time=0.11 sec\n"
          ]
        },
        {
          "output_type": "stream",
          "name": "stderr",
          "text": [
            "/usr/local/lib/python3.11/dist-packages/sklearn/utils/deprecation.py:151: FutureWarning: 'force_all_finite' was renamed to 'ensure_all_finite' in 1.6 and will be removed in 1.8.\n",
            "  warnings.warn(\n",
            "/usr/local/lib/python3.11/dist-packages/sklearn/utils/deprecation.py:151: FutureWarning: 'force_all_finite' was renamed to 'ensure_all_finite' in 1.6 and will be removed in 1.8.\n",
            "  warnings.warn(\n"
          ]
        },
        {
          "output_type": "stream",
          "name": "stdout",
          "text": [
            " ARIMA(2,0,1)(0,0,0)[0]             : AIC=-85.268, Time=0.27 sec\n",
            " ARIMA(1,0,0)(0,0,0)[0] intercept   : AIC=-87.900, Time=0.16 sec\n",
            "\n",
            "Best model:  ARIMA(1,0,0)(0,0,0)[0]          \n",
            "Total fit time: 1.247 seconds\n",
            "\n",
            "Model Evaluation:\n",
            "Confusion Matrix:\n",
            "[[72  1]\n",
            " [ 1 19]]\n",
            "\n",
            "Classification Report:\n",
            "              precision    recall  f1-score   support\n",
            "\n",
            "           0       0.99      0.99      0.99        73\n",
            "           1       0.95      0.95      0.95        20\n",
            "\n",
            "    accuracy                           0.98        93\n",
            "   macro avg       0.97      0.97      0.97        93\n",
            "weighted avg       0.98      0.98      0.98        93\n",
            "\n",
            "\n",
            "ARFIMA Model Summary:\n",
            "                               SARIMAX Results                                \n",
            "==============================================================================\n",
            "Dep. Variable:                      y   No. Observations:                   93\n",
            "Model:               SARIMAX(1, 0, 0)   Log Likelihood                  46.628\n",
            "Date:                Thu, 17 Apr 2025   AIC                            -89.257\n",
            "Time:                        16:50:12   BIC                            -84.192\n",
            "Sample:                    07-07-2017   HQIC                           -87.212\n",
            "                         - 07-07-2017                                         \n",
            "Covariance Type:                  opg                                         \n",
            "==============================================================================\n",
            "                 coef    std err          z      P>|z|      [0.025      0.975]\n",
            "------------------------------------------------------------------------------\n",
            "ar.L1          0.9413      0.027     34.354      0.000       0.888       0.995\n",
            "sigma2         0.0210      0.001     24.326      0.000       0.019       0.023\n",
            "===================================================================================\n",
            "Ljung-Box (L1) (Q):                   0.07   Jarque-Bera (JB):              6548.20\n",
            "Prob(Q):                              0.80   Prob(JB):                         0.00\n",
            "Heteroskedasticity (H):               0.00   Skew:                             0.34\n",
            "Prob(H) (two-sided):                  0.00   Kurtosis:                        44.10\n",
            "===================================================================================\n",
            "\n",
            "Warnings:\n",
            "[1] Covariance matrix calculated using the outer product of gradients (complex-step).\n",
            "\n",
            "RMSE: 0.1449\n",
            "\n",
            "Starting ARFIMA modeling with pmdarima...\n"
          ]
        },
        {
          "output_type": "stream",
          "name": "stderr",
          "text": [
            "/usr/local/lib/python3.11/dist-packages/sklearn/utils/deprecation.py:151: FutureWarning: 'force_all_finite' was renamed to 'ensure_all_finite' in 1.6 and will be removed in 1.8.\n",
            "  warnings.warn(\n",
            "/usr/local/lib/python3.11/dist-packages/sklearn/utils/deprecation.py:151: FutureWarning: 'force_all_finite' was renamed to 'ensure_all_finite' in 1.6 and will be removed in 1.8.\n",
            "  warnings.warn(\n",
            "/usr/local/lib/python3.11/dist-packages/sklearn/utils/deprecation.py:151: FutureWarning: 'force_all_finite' was renamed to 'ensure_all_finite' in 1.6 and will be removed in 1.8.\n",
            "  warnings.warn(\n",
            "/usr/local/lib/python3.11/dist-packages/sklearn/utils/deprecation.py:151: FutureWarning: 'force_all_finite' was renamed to 'ensure_all_finite' in 1.6 and will be removed in 1.8.\n",
            "  warnings.warn(\n",
            "/usr/local/lib/python3.11/dist-packages/sklearn/utils/deprecation.py:151: FutureWarning: 'force_all_finite' was renamed to 'ensure_all_finite' in 1.6 and will be removed in 1.8.\n",
            "  warnings.warn(\n",
            "/usr/local/lib/python3.11/dist-packages/sklearn/utils/deprecation.py:151: FutureWarning: 'force_all_finite' was renamed to 'ensure_all_finite' in 1.6 and will be removed in 1.8.\n",
            "  warnings.warn(\n",
            "/usr/local/lib/python3.11/dist-packages/sklearn/utils/deprecation.py:151: FutureWarning: 'force_all_finite' was renamed to 'ensure_all_finite' in 1.6 and will be removed in 1.8.\n",
            "  warnings.warn(\n"
          ]
        },
        {
          "output_type": "stream",
          "name": "stdout",
          "text": [
            "Performing stepwise search to minimize aic\n",
            " ARIMA(1,0,1)(0,0,0)[0]             : AIC=-87.310, Time=0.29 sec\n",
            " ARIMA(0,0,0)(0,0,0)[0]             : AIC=122.994, Time=0.07 sec\n",
            " ARIMA(1,0,0)(0,0,0)[0]             : AIC=-89.257, Time=0.08 sec\n"
          ]
        },
        {
          "output_type": "stream",
          "name": "stderr",
          "text": [
            "/usr/local/lib/python3.11/dist-packages/sklearn/utils/deprecation.py:151: FutureWarning: 'force_all_finite' was renamed to 'ensure_all_finite' in 1.6 and will be removed in 1.8.\n",
            "  warnings.warn(\n",
            "/usr/local/lib/python3.11/dist-packages/sklearn/utils/deprecation.py:151: FutureWarning: 'force_all_finite' was renamed to 'ensure_all_finite' in 1.6 and will be removed in 1.8.\n",
            "  warnings.warn(\n",
            "/usr/local/lib/python3.11/dist-packages/sklearn/utils/deprecation.py:151: FutureWarning: 'force_all_finite' was renamed to 'ensure_all_finite' in 1.6 and will be removed in 1.8.\n",
            "  warnings.warn(\n"
          ]
        },
        {
          "output_type": "stream",
          "name": "stdout",
          "text": [
            " ARIMA(0,0,1)(0,0,0)[0]             : AIC=35.110, Time=0.65 sec\n",
            " ARIMA(2,0,0)(0,0,0)[0]             : AIC=-87.313, Time=0.12 sec\n"
          ]
        },
        {
          "output_type": "stream",
          "name": "stderr",
          "text": [
            "/usr/local/lib/python3.11/dist-packages/sklearn/utils/deprecation.py:151: FutureWarning: 'force_all_finite' was renamed to 'ensure_all_finite' in 1.6 and will be removed in 1.8.\n",
            "  warnings.warn(\n",
            "/usr/local/lib/python3.11/dist-packages/sklearn/utils/deprecation.py:151: FutureWarning: 'force_all_finite' was renamed to 'ensure_all_finite' in 1.6 and will be removed in 1.8.\n",
            "  warnings.warn(\n"
          ]
        },
        {
          "output_type": "stream",
          "name": "stdout",
          "text": [
            " ARIMA(2,0,1)(0,0,0)[0]             : AIC=-85.268, Time=0.32 sec\n",
            " ARIMA(1,0,0)(0,0,0)[0] intercept   : AIC=-87.900, Time=0.17 sec\n",
            "\n",
            "Best model:  ARIMA(1,0,0)(0,0,0)[0]          \n",
            "Total fit time: 1.702 seconds\n",
            "\n",
            "Model Evaluation:\n",
            "Confusion Matrix:\n",
            "[[72  1]\n",
            " [ 1 19]]\n",
            "\n",
            "Classification Report:\n",
            "              precision    recall  f1-score   support\n",
            "\n",
            "           0       0.99      0.99      0.99        73\n",
            "           1       0.95      0.95      0.95        20\n",
            "\n",
            "    accuracy                           0.98        93\n",
            "   macro avg       0.97      0.97      0.97        93\n",
            "weighted avg       0.98      0.98      0.98        93\n",
            "\n",
            "\n",
            "ARFIMA Model Summary:\n"
          ]
        },
        {
          "output_type": "stream",
          "name": "stderr",
          "text": [
            "/usr/local/lib/python3.11/dist-packages/sklearn/utils/deprecation.py:151: FutureWarning: 'force_all_finite' was renamed to 'ensure_all_finite' in 1.6 and will be removed in 1.8.\n",
            "  warnings.warn(\n"
          ]
        },
        {
          "output_type": "stream",
          "name": "stdout",
          "text": [
            "                               SARIMAX Results                                \n",
            "==============================================================================\n",
            "Dep. Variable:                      y   No. Observations:                   93\n",
            "Model:               SARIMAX(1, 0, 0)   Log Likelihood                  46.628\n",
            "Date:                Thu, 17 Apr 2025   AIC                            -89.257\n",
            "Time:                        16:50:14   BIC                            -84.192\n",
            "Sample:                    07-07-2017   HQIC                           -87.212\n",
            "                         - 07-07-2017                                         \n",
            "Covariance Type:                  opg                                         \n",
            "==============================================================================\n",
            "                 coef    std err          z      P>|z|      [0.025      0.975]\n",
            "------------------------------------------------------------------------------\n",
            "ar.L1          0.9413      0.027     34.354      0.000       0.888       0.995\n",
            "sigma2         0.0210      0.001     24.326      0.000       0.019       0.023\n",
            "===================================================================================\n",
            "Ljung-Box (L1) (Q):                   0.07   Jarque-Bera (JB):              6548.20\n",
            "Prob(Q):                              0.80   Prob(JB):                         0.00\n",
            "Heteroskedasticity (H):               0.00   Skew:                             0.34\n",
            "Prob(H) (two-sided):                  0.00   Kurtosis:                        44.10\n",
            "===================================================================================\n",
            "\n",
            "Warnings:\n",
            "[1] Covariance matrix calculated using the outer product of gradients (complex-step).\n",
            "\n",
            "RMSE: 0.1449\n"
          ]
        }
      ]
    },
    {
      "cell_type": "code",
      "source": [],
      "metadata": {
        "id": "hnKrBkod0TF9"
      },
      "execution_count": null,
      "outputs": []
    },
    {
      "cell_type": "code",
      "source": [
        "print(\"\\n=== Final Results ===\")\n",
        "print(f\"Time period analyzed: {time_series.index[0]} to {time_series.index[-1]}\")\n",
        "print(f\"Total observations: {len(time_series)}\")\n",
        "print(f\"Attack percentage: {time_series['Attack'].mean():.2%}\")\n",
        "print(\"\\nTop predictive features:\")\n",
        "for i, feat in enumerate(causal_features[:5], 1):\n",
        "    print(f\"{i}. {feat}\")\n",
        "\n",
        "if 'model' in locals():\n",
        "    print(\"\\nModel diagnostics:\")\n",
        "    try:\n",
        "        model.plot_diagnostics(figsize=(10,8))\n",
        "    except:\n",
        "        print(\"Could not generate diagnostics plot\")"
      ],
      "metadata": {
        "colab": {
          "base_uri": "https://localhost:8080/",
          "height": 972
        },
        "id": "i4pQ2ASA0rAo",
        "outputId": "72a612d3-7b9d-4c07-9cfd-b6db1dcbee1b"
      },
      "execution_count": null,
      "outputs": [
        {
          "output_type": "stream",
          "name": "stdout",
          "text": [
            "\n",
            "=== Final Results ===\n",
            "Time period analyzed: 2017-07-07 03:30:00 to 2017-07-07 05:02:00\n",
            "Total observations: 93\n",
            "Attack percentage: 21.51%\n",
            "\n",
            "Top predictive features:\n",
            "1. Label\n",
            "2. Flow Bytes/s\n",
            "3. Flow Packets/s\n",
            "4. Total Fwd Packets\n",
            "5. Total Backward Packets\n",
            "\n",
            "Model diagnostics:\n"
          ]
        },
        {
          "output_type": "display_data",
          "data": {
            "text/plain": [
              "<Figure size 1000x800 with 4 Axes>"
            ],
            "image/png": "[encoded data removed]"
          },
          "metadata": {}
        }
      ]
    },
    {
      "cell_type": "code",
      "source": [
        "# 5. Visualization & Final Insights\n",
        "\n",
        "import matplotlib.pyplot as plt\n",
        "import seaborn as sns\n",
        "\n",
        "# Plot actual vs predicted\n",
        "plt.figure(figsize=(15,5))\n",
        "plt.plot(target.reset_index(drop=True), label='Actual', alpha=0.7)\n",
        "plt.plot(predictions, label='Predicted', alpha=0.7)\n",
        "plt.title('Actual vs Predicted DDoS Attacks')\n",
        "plt.xlabel('Time (minutes)')\n",
        "plt.ylabel('Attack')\n",
        "plt.legend()\n",
        "plt.tight_layout()\n",
        "plt.show()\n",
        "\n",
        "# Heatmap of confusion matrix\n",
        "conf_mat = confusion_matrix(target, predictions)\n",
        "plt.figure(figsize=(6,4))\n",
        "sns.heatmap(conf_mat, annot=True, fmt='d', cmap='Blues', xticklabels=['No Attack', 'Attack'], yticklabels=['No Attack', 'Attack'])\n",
        "plt.title('Confusion Matrix')\n",
        "plt.ylabel('Actual')\n",
        "plt.xlabel('Predicted')\n",
        "plt.tight_layout()\n",
        "plt.show()\n"
      ],
      "metadata": {
        "colab": {
          "base_uri": "https://localhost:8080/",
          "height": 869
        },
        "id": "Go9Xl4E5pChj",
        "outputId": "2196c056-e8cb-4580-b897-8aa57ce2f056"
      },
      "execution_count": null,
      "outputs": [
        {
          "output_type": "display_data",
          "data": {
            "text/plain": [
              "<Figure size 1500x500 with 1 Axes>"
            ],
            "image/png": "[encoded data removed]"
          },
          "metadata": {}
        },
        {
          "output_type": "display_data",
          "data": {
            "text/plain": [
              "<Figure size 600x400 with 2 Axes>"
            ],
            "image/png": "[encoded data removed]"
          },
          "metadata": {}
        }
      ]
    },
    {
      "cell_type": "code",
      "source": [
        "!pip install prophet\n"
      ],
      "metadata": {
        "colab": {
          "base_uri": "https://localhost:8080/"
        },
        "id": "1xOKs2zpzbrl",
        "outputId": "80392ee1-a3d8-457a-d47a-28373515f09a",
        "collapsed": true
      },
      "execution_count": null,
      "outputs": [
        {
          "output_type": "stream",
          "name": "stdout",
          "text": [
            "Requirement already satisfied: prophet in /usr/local/lib/python3.11/dist-packages (1.1.6)\n",
            "Requirement already satisfied: cmdstanpy>=1.0.4 in /usr/local/lib/python3.11/dist-packages (from prophet) (1.2.5)\n",
            "Requirement already satisfied: numpy>=1.15.4 in /usr/local/lib/python3.11/dist-packages (from prophet) (1.24.4)\n",
            "Requirement already satisfied: matplotlib>=2.0.0 in /usr/local/lib/python3.11/dist-packages (from prophet) (3.10.0)\n",
            "Requirement already satisfied: pandas>=1.0.4 in /usr/local/lib/python3.11/dist-packages (from prophet) (2.2.2)\n",
            "Requirement already satisfied: holidays<1,>=0.25 in /usr/local/lib/python3.11/dist-packages (from prophet) (0.70)\n",
            "Requirement already satisfied: tqdm>=4.36.1 in /usr/local/lib/python3.11/dist-packages (from prophet) (4.67.1)\n",
            "Requirement already satisfied: importlib-resources in /usr/local/lib/python3.11/dist-packages (from prophet) (6.5.2)\n",
            "Requirement already satisfied: stanio<2.0.0,>=0.4.0 in /usr/local/lib/python3.11/dist-packages (from cmdstanpy>=1.0.4->prophet) (0.5.1)\n",
            "Requirement already satisfied: python-dateutil in /usr/local/lib/python3.11/dist-packages (from holidays<1,>=0.25->prophet) (2.8.2)\n",
            "Requirement already satisfied: contourpy>=1.0.1 in /usr/local/lib/python3.11/dist-packages (from matplotlib>=2.0.0->prophet) (1.3.1)\n",
            "Requirement already satisfied: cycler>=0.10 in /usr/local/lib/python3.11/dist-packages (from matplotlib>=2.0.0->prophet) (0.12.1)\n",
            "Requirement already satisfied: fonttools>=4.22.0 in /usr/local/lib/python3.11/dist-packages (from matplotlib>=2.0.0->prophet) (4.57.0)\n",
            "Requirement already satisfied: kiwisolver>=1.3.1 in /usr/local/lib/python3.11/dist-packages (from matplotlib>=2.0.0->prophet) (1.4.8)\n",
            "Requirement already satisfied: packaging>=20.0 in /usr/local/lib/python3.11/dist-packages (from matplotlib>=2.0.0->prophet) (24.2)\n",
            "Requirement already satisfied: pillow>=8 in /usr/local/lib/python3.11/dist-packages (from matplotlib>=2.0.0->prophet) (11.1.0)\n",
            "Requirement already satisfied: pyparsing>=2.3.1 in /usr/local/lib/python3.11/dist-packages (from matplotlib>=2.0.0->prophet) (3.2.3)\n",
            "Requirement already satisfied: pytz>=2020.1 in /usr/local/lib/python3.11/dist-packages (from pandas>=1.0.4->prophet) (2025.2)\n",
            "Requirement already satisfied: tzdata>=2022.7 in /usr/local/lib/python3.11/dist-packages (from pandas>=1.0.4->prophet) (2025.2)\n",
            "Requirement already satisfied: six>=1.5 in /usr/local/lib/python3.11/dist-packages (from python-dateutil->holidays<1,>=0.25->prophet) (1.17.0)\n"
          ]
        }
      ]
    },
    {
      "cell_type": "code",
      "source": [
        "!pip install pystan\n"
      ],
      "metadata": {
        "colab": {
          "base_uri": "https://localhost:8080/"
        },
        "id": "opNkVWwVzjzW",
        "outputId": "3f898792-2fd8-4129-8a15-de256af19c86",
        "collapsed": true
      },
      "execution_count": null,
      "outputs": [
        {
          "output_type": "stream",
          "name": "stdout",
          "text": [
            "Requirement already satisfied: pystan in /usr/local/lib/python3.11/dist-packages (3.10.0)\n",
            "Requirement already satisfied: aiohttp<4.0,>=3.6 in /usr/local/lib/python3.11/dist-packages (from pystan) (3.11.15)\n",
            "Requirement already satisfied: clikit<0.7,>=0.6 in /usr/local/lib/python3.11/dist-packages (from pystan) (0.6.2)\n",
            "Requirement already satisfied: httpstan<4.14,>=4.13 in /usr/local/lib/python3.11/dist-packages (from pystan) (4.13.0)\n",
            "Requirement already satisfied: numpy>=1.19 in /usr/local/lib/python3.11/dist-packages (from pystan) (1.24.4)\n",
            "Requirement already satisfied: pysimdjson<7,>=5.0.2 in /usr/local/lib/python3.11/dist-packages (from pystan) (6.0.2)\n",
            "Requirement already satisfied: setuptools in /usr/local/lib/python3.11/dist-packages (from pystan) (75.2.0)\n",
            "Requirement already satisfied: aiohappyeyeballs>=2.3.0 in /usr/local/lib/python3.11/dist-packages (from aiohttp<4.0,>=3.6->pystan) (2.6.1)\n",
            "Requirement already satisfied: aiosignal>=1.1.2 in /usr/local/lib/python3.11/dist-packages (from aiohttp<4.0,>=3.6->pystan) (1.3.2)\n",
            "Requirement already satisfied: attrs>=17.3.0 in /usr/local/lib/python3.11/dist-packages (from aiohttp<4.0,>=3.6->pystan) (25.3.0)\n",
            "Requirement already satisfied: frozenlist>=1.1.1 in /usr/local/lib/python3.11/dist-packages (from aiohttp<4.0,>=3.6->pystan) (1.5.0)\n",
            "Requirement already satisfied: multidict<7.0,>=4.5 in /usr/local/lib/python3.11/dist-packages (from aiohttp<4.0,>=3.6->pystan) (6.4.2)\n",
            "Requirement already satisfied: propcache>=0.2.0 in /usr/local/lib/python3.11/dist-packages (from aiohttp<4.0,>=3.6->pystan) (0.3.1)\n",
            "Requirement already satisfied: yarl<2.0,>=1.17.0 in /usr/local/lib/python3.11/dist-packages (from aiohttp<4.0,>=3.6->pystan) (1.19.0)\n",
            "Requirement already satisfied: crashtest<0.4.0,>=0.3.0 in /usr/local/lib/python3.11/dist-packages (from clikit<0.7,>=0.6->pystan) (0.3.1)\n",
            "Requirement already satisfied: pastel<0.3.0,>=0.2.0 in /usr/local/lib/python3.11/dist-packages (from clikit<0.7,>=0.6->pystan) (0.2.1)\n",
            "Requirement already satisfied: pylev<2.0,>=1.3 in /usr/local/lib/python3.11/dist-packages (from clikit<0.7,>=0.6->pystan) (1.4.0)\n",
            "Requirement already satisfied: appdirs<2.0,>=1.4 in /usr/local/lib/python3.11/dist-packages (from httpstan<4.14,>=4.13->pystan) (1.4.4)\n",
            "Requirement already satisfied: marshmallow<4.0,>=3.10 in /usr/local/lib/python3.11/dist-packages (from httpstan<4.14,>=4.13->pystan) (3.26.1)\n",
            "Requirement already satisfied: webargs<9.0,>=8.0 in /usr/local/lib/python3.11/dist-packages (from httpstan<4.14,>=4.13->pystan) (8.6.0)\n",
            "Requirement already satisfied: packaging>=17.0 in /usr/local/lib/python3.11/dist-packages (from marshmallow<4.0,>=3.10->httpstan<4.14,>=4.13->pystan) (24.2)\n",
            "Requirement already satisfied: idna>=2.0 in /usr/local/lib/python3.11/dist-packages (from yarl<2.0,>=1.17.0->aiohttp<4.0,>=3.6->pystan) (3.10)\n"
          ]
        }
      ]
    },
    {
      "cell_type": "code",
      "source": [
        "from statsmodels.tsa.arima.model import ARIMA\n",
        "from sklearn.metrics import confusion_matrix, classification_report, mean_squared_error\n",
        "import numpy as np\n",
        "\n",
        "# Créer et ajuster un modèle ARIMA sur la target avec les mêmes exogènes\n",
        "arima_model = ARIMA(endog=target, exog=features, order=(1, 0, 1))  # à ajuster si nécessaire\n",
        "arima_result = arima_model.fit()\n",
        "\n",
        "# Prédiction in-sample\n",
        "arima_forecast = arima_result.predict(start=0, end=len(target)-1, exog=features)\n",
        "arima_predictions = (arima_forecast > 0.5).astype(int)\n",
        "\n",
        "# Évaluation\n",
        "print(\"\\nARIMA Evaluation:\")\n",
        "print(\"Confusion Matrix:\")\n",
        "print(confusion_matrix(target, arima_predictions))\n",
        "print(\"\\nClassification Report:\")\n",
        "print(classification_report(target, arima_predictions))\n",
        "\n",
        "# RMSE\n",
        "arima_rmse = np.sqrt(mean_squared_error(target, arima_forecast))\n",
        "print(f\"\\nARIMA RMSE: {arima_rmse:.4f}\")\n",
        "\n"
      ],
      "metadata": {
        "colab": {
          "base_uri": "https://localhost:8080/"
        },
        "id": "VCvq2TAym4-C",
        "outputId": "6a2a5071-a433-4ebe-e1e7-4f57b8c522df"
      },
      "execution_count": null,
      "outputs": [
        {
          "output_type": "stream",
          "name": "stdout",
          "text": [
            "\n",
            "ARIMA Evaluation:\n",
            "Confusion Matrix:\n",
            "[[72  1]\n",
            " [ 0 20]]\n",
            "\n",
            "Classification Report:\n",
            "              precision    recall  f1-score   support\n",
            "\n",
            "           0       1.00      0.99      0.99        73\n",
            "           1       0.95      1.00      0.98        20\n",
            "\n",
            "    accuracy                           0.99        93\n",
            "   macro avg       0.98      0.99      0.98        93\n",
            "weighted avg       0.99      0.99      0.99        93\n",
            "\n",
            "\n",
            "ARIMA RMSE: 0.0669\n"
          ]
        }
      ]
    },
    {
      "cell_type": "code",
      "source": [
        "from statsmodels.tsa.arima.model import ARIMA\n",
        "from sklearn.metrics import confusion_matrix, classification_report, mean_squared_error\n",
        "import numpy as np\n",
        "import pmdarima as pm\n",
        "import matplotlib.pyplot as plt\n",
        "\n",
        "# ========= Résumé Comparatif =========\n",
        "print(f\"ARIMA RMSE: {arima_rmse:.4f}\")\n",
        "print(f\"ARFIMA RMSE: {rmse1:.4f}\")  # celui que tu as déjà imprimé\n",
        "\n",
        "# Bonus : Matrice de confusion combinée\n",
        "fig, axs = plt.subplots(1, 2, figsize=(12, 5))\n",
        "\n",
        "# ARIMA\n",
        "cm_arima = confusion_matrix(target, arima_predictions)\n",
        "axs[0].imshow(cm_arima, cmap='Blues')\n",
        "axs[0].set_title(\"ARIMA Confusion Matrix\")\n",
        "axs[0].set_xlabel(\"Predicted\")\n",
        "axs[0].set_ylabel(\"Actual\")\n",
        "\n",
        "# Annoter les valeurs\n",
        "for i in range(cm_arima.shape[0]):\n",
        "    for j in range(cm_arima.shape[1]):\n",
        "        axs[0].text(j, i, str(cm_arima[i, j]), va='center', ha='center', color='black')\n",
        "\n",
        "# ARFIMA\n",
        "cm_arfima = confusion_matrix(target, predictions)\n",
        "axs[1].imshow(cm_arfima, cmap='Greens')\n",
        "axs[1].set_title(\"ARFIMA Confusion Matrix\")\n",
        "axs[1].set_xlabel(\"Predicted\")\n",
        "axs[1].set_ylabel(\"Actual\")\n",
        "\n",
        "# Annoter les valeurs\n",
        "for i in range(cm_arfima.shape[0]):\n",
        "    for j in range(cm_arfima.shape[1]):\n",
        "        axs[1].text(j, i, str(cm_arfima[i, j]), va='center', ha='center', color='black')\n",
        "\n",
        "plt.tight_layout()\n",
        "plt.show()\n",
        "\n",
        "\n"
      ],
      "metadata": {
        "colab": {
          "base_uri": "https://localhost:8080/",
          "height": 543
        },
        "id": "SmA4DQGPm7Uy",
        "outputId": "b652aaa6-c5fd-4de2-949e-bcab2ab322ba"
      },
      "execution_count": null,
      "outputs": [
        {
          "output_type": "stream",
          "name": "stdout",
          "text": [
            "ARIMA RMSE: 0.0669\n",
            "ARFIMA RMSE: 0.1449\n"
          ]
        },
        {
          "output_type": "display_data",
          "data": {
            "text/plain": [
              "<Figure size 1200x500 with 2 Axes>"
            ],
            "image/png": "[encoded data removed]"
          },
          "metadata": {}
        }
      ]
    }
  ]
}